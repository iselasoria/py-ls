{
 "cells": [
  {
   "cell_type": "code",
   "execution_count": 5,
   "id": "0565700b-2e94-465a-926d-25bf76947cc9",
   "metadata": {},
   "outputs": [
    {
     "name": "stdout",
     "output_type": "stream",
     "text": [
      "max = 0 number = 10 number > max = True\n",
      "max = 10 number = 2 number > max = True\n",
      "max = 2 number = 34 number > max = True\n",
      "max = 34 number = 6 number > max = True\n",
      "max = 6 number = 25 number > max = False\n",
      "max value is 6\n"
     ]
    }
   ],
   "source": [
    "max = '0'\n",
    "for number in ['10', '2', '34', '6', '25']:\n",
    "    print('max =', max, 'number =', number,\n",
    "          'number > max =', number > max)\n",
    "    if number > max:\n",
    "        max = number\n",
    "\n",
    "print('max value is', max)"
   ]
  },
  {
   "cell_type": "code",
   "execution_count": 6,
   "id": "b85877e7-243d-44e3-b9ef-d0ca4092c611",
   "metadata": {},
   "outputs": [
    {
     "name": "stdout",
     "output_type": "stream",
     "text": [
      "max = 0 number = 10 number > max = True\n",
      "max = 10 number = 2 number > max = True\n",
      "max = 10 number = 34 number > max = True\n",
      "max = 34 number = 6 number > max = True\n",
      "max = 34 number = 25 number > max = False\n",
      "max value is 34\n"
     ]
    }
   ],
   "source": [
    "max = '0'\n",
    "for number in ['10', '2', '34', '6', '25']:\n",
    "    print('max =', max, 'number =', number,\n",
    "          'number > max =', number > max)\n",
    "    if int(number) > int(max):\n",
    "        max = number\n",
    "\n",
    "print('max value is', max)"
   ]
  },
  {
   "cell_type": "code",
   "execution_count": null,
   "id": "07ecefc1-4131-4e1d-983e-d25e7fe23d4a",
   "metadata": {},
   "outputs": [],
   "source": []
  }
 ],
 "metadata": {
  "kernelspec": {
   "display_name": "Python 3 (ipykernel)",
   "language": "python",
   "name": "python3"
  },
  "language_info": {
   "codemirror_mode": {
    "name": "ipython",
    "version": 3
   },
   "file_extension": ".py",
   "mimetype": "text/x-python",
   "name": "python",
   "nbconvert_exporter": "python",
   "pygments_lexer": "ipython3",
   "version": "3.11.7"
  }
 },
 "nbformat": 4,
 "nbformat_minor": 5
}
